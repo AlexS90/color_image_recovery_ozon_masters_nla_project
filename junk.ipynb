{
 "cells": [
  {
   "cell_type": "code",
   "execution_count": 11,
   "metadata": {},
   "outputs": [
    {
     "name": "stdout",
     "output_type": "stream",
     "text": [
      "The autoreload extension is already loaded. To reload it, use:\n",
      "  %reload_ext autoreload\n"
     ]
    }
   ],
   "source": [
    "%load_ext autoreload\n",
    "%autoreload 2\n",
    "\n",
    "import numpy as np\n",
    "import image_recovery.linalg as irl"
   ]
  },
  {
   "cell_type": "markdown",
   "metadata": {},
   "source": [
    "# Testing H <==> C mapping"
   ]
  },
  {
   "cell_type": "markdown",
   "metadata": {},
   "source": [
    "#### Additive isomorphism"
   ]
  },
  {
   "cell_type": "code",
   "execution_count": 12,
   "metadata": {},
   "outputs": [
    {
     "name": "stdout",
     "output_type": "stream",
     "text": [
      "Test 1/5. Q-matrices of shapes (96, 56, 4), (96, 56, 4)\n",
      "CORRECT\n",
      "\n",
      "Test 2/5. Q-matrices of shapes (61, 12, 4), (61, 12, 4)\n",
      "CORRECT\n",
      "\n",
      "Test 3/5. Q-matrices of shapes (73, 27, 4), (73, 27, 4)\n",
      "CORRECT\n",
      "\n",
      "Test 4/5. Q-matrices of shapes (19, 18, 4), (19, 18, 4)\n",
      "CORRECT\n",
      "\n",
      "Test 5/5. Q-matrices of shapes (41, 14, 4), (41, 14, 4)\n",
      "CORRECT\n",
      "\n"
     ]
    }
   ],
   "source": [
    "n_tests = 5\n",
    "\n",
    "for ix in range(n_tests):\n",
    "    shape = np.random.randint(5, 100 + 1, size=2)\n",
    "    \n",
    "    A = np.random.normal(size=(*shape, 4))\n",
    "    B = np.random.normal(size=(*shape, 4))\n",
    "    print(f\"Test {ix + 1}/{n_tests}. Q-matrices of shapes {A.shape}, {B.shape}\")\n",
    "    \n",
    "    if np.allclose(irl.cm2qm(irl.qm2cm(A) + irl.qm2cm(B)), A + B):\n",
    "        print(\"CORRECT\\n\")\n",
    "    else:\n",
    "        print(\"INCORRECT\\n\")"
   ]
  },
  {
   "cell_type": "markdown",
   "metadata": {},
   "source": [
    "#### Multiplicative isomorphism"
   ]
  },
  {
   "cell_type": "code",
   "execution_count": 13,
   "metadata": {},
   "outputs": [
    {
     "name": "stdout",
     "output_type": "stream",
     "text": [
      "Test 1/5. Q-matrices of shapes (30, 10, 4), (10, 15, 4)\n",
      "CORRECT\n",
      "\n",
      "Test 2/5. Q-matrices of shapes (51, 41, 4), (41, 60, 4)\n",
      "CORRECT\n",
      "\n",
      "Test 3/5. Q-matrices of shapes (16, 75, 4), (75, 18, 4)\n",
      "CORRECT\n",
      "\n",
      "Test 4/5. Q-matrices of shapes (68, 78, 4), (78, 43, 4)\n",
      "CORRECT\n",
      "\n",
      "Test 5/5. Q-matrices of shapes (26, 43, 4), (43, 24, 4)\n",
      "CORRECT\n",
      "\n"
     ]
    }
   ],
   "source": [
    "n_tests = 5\n",
    "\n",
    "for ix in range(n_tests):\n",
    "    shapes = np.random.randint(5, 100 + 1, size=3)\n",
    "    \n",
    "    A = np.random.normal(size=(*shapes[:-1], 4))\n",
    "    B = np.random.normal(size=(*shapes[1:], 4))\n",
    "    print(f\"Test {ix + 1}/{n_tests}. Q-matrices of shapes {A.shape}, {B.shape}\")\n",
    "    \n",
    "    if np.allclose(irl.cm2qm(irl.qm2cm(A) @ irl.qm2cm(B)), irl.qdot(A, B)):\n",
    "        print(\"CORRECT\\n\")\n",
    "    else:\n",
    "        print(\"INCORRECT\\n\")"
   ]
  },
  {
   "cell_type": "markdown",
   "metadata": {},
   "source": [
    "#### Conjugation"
   ]
  },
  {
   "cell_type": "code",
   "execution_count": 35,
   "metadata": {},
   "outputs": [
    {
     "name": "stdout",
     "output_type": "stream",
     "text": [
      "Test 1/5. Q-matrix of shape (2, 2, 4)\n",
      "INCORRECT\n",
      "\n",
      "Test 2/5. Q-matrix of shape (2, 2, 4)\n",
      "INCORRECT\n",
      "\n",
      "Test 3/5. Q-matrix of shape (2, 2, 4)\n",
      "INCORRECT\n",
      "\n",
      "Test 4/5. Q-matrix of shape (2, 2, 4)\n",
      "INCORRECT\n",
      "\n",
      "Test 5/5. Q-matrix of shape (2, 2, 4)\n",
      "INCORRECT\n",
      "\n"
     ]
    }
   ],
   "source": [
    "n_tests = 5\n",
    "\n",
    "for ix in range(n_tests):\n",
    "    shape = np.random.randint(2, 2 + 1, size=2)\n",
    "    \n",
    "    A = np.random.normal(size=(*shape, 4))\n",
    "    print(f\"Test {ix + 1}/{n_tests}. Q-matrix of shape {A.shape}\")\n",
    "    \n",
    "    if np.allclose(irl.cm2qm(np.conj(irl.qm2cm(A))), irl.conjugate(A)):\n",
    "        print(\"CORRECT\\n\")\n",
    "    else:\n",
    "        print(\"INCORRECT\\n\")"
   ]
  },
  {
   "cell_type": "code",
   "execution_count": 36,
   "metadata": {
    "scrolled": true
   },
   "outputs": [
    {
     "data": {
      "text/plain": [
       "array([[[-1.28155105, -0.69096716,  1.24513749,  0.70075493],\n",
       "        [-0.20335913, -2.13950876, -0.41601891, -0.45472593]],\n",
       "\n",
       "       [[-0.36719413, -0.72262852, -0.96183087, -0.16673042],\n",
       "        [-0.21429043,  1.12203922,  1.01168334, -0.48090802]]])"
      ]
     },
     "execution_count": 36,
     "metadata": {},
     "output_type": "execute_result"
    }
   ],
   "source": [
    "A"
   ]
  },
  {
   "cell_type": "code",
   "execution_count": 37,
   "metadata": {},
   "outputs": [
    {
     "data": {
      "text/plain": [
       "array([[[-1.28155105,  0.69096716, -1.24513749, -0.70075493],\n",
       "        [-0.20335913,  2.13950876,  0.41601891,  0.45472593]],\n",
       "\n",
       "       [[-0.36719413,  0.72262852,  0.96183087,  0.16673042],\n",
       "        [-0.21429043, -1.12203922, -1.01168334,  0.48090802]]])"
      ]
     },
     "execution_count": 37,
     "metadata": {},
     "output_type": "execute_result"
    }
   ],
   "source": [
    "irl.conjugate(A)"
   ]
  },
  {
   "cell_type": "markdown",
   "metadata": {},
   "source": [
    "####  Frobenius norm"
   ]
  },
  {
   "cell_type": "code",
   "execution_count": 32,
   "metadata": {},
   "outputs": [
    {
     "name": "stdout",
     "output_type": "stream",
     "text": [
      "Test 1/5. Q-matrix of shape (88, 9, 4)\n",
      "CORRECT\n",
      "\n",
      "Test 2/5. Q-matrix of shape (13, 61, 4)\n",
      "CORRECT\n",
      "\n",
      "Test 3/5. Q-matrix of shape (12, 29, 4)\n",
      "CORRECT\n",
      "\n",
      "Test 4/5. Q-matrix of shape (31, 26, 4)\n",
      "CORRECT\n",
      "\n",
      "Test 5/5. Q-matrix of shape (91, 57, 4)\n",
      "CORRECT\n",
      "\n"
     ]
    }
   ],
   "source": [
    "n_tests = 5\n",
    "\n",
    "for ix in range(n_tests):\n",
    "    shape = np.random.randint(5, 100 + 1, size=2)\n",
    "    \n",
    "    A = np.random.normal(size=(*shape, 4))\n",
    "    print(f\"Test {ix + 1}/{n_tests}. Q-matrix of shape {A.shape}\")\n",
    "    \n",
    "    if np.isclose(np.linalg.norm(irl.qm2cm(A))**2, 2*irl.frobenius_norm(A)**2):\n",
    "        print(\"CORRECT\\n\")\n",
    "    else:\n",
    "        print(\"INCORRECT\\n\")"
   ]
  }
 ],
 "metadata": {
  "kernelspec": {
   "display_name": "Python 3",
   "language": "python",
   "name": "python3"
  },
  "language_info": {
   "codemirror_mode": {
    "name": "ipython",
    "version": 3
   },
   "file_extension": ".py",
   "mimetype": "text/x-python",
   "name": "python",
   "nbconvert_exporter": "python",
   "pygments_lexer": "ipython3",
   "version": "3.6.9"
  }
 },
 "nbformat": 4,
 "nbformat_minor": 2
}
