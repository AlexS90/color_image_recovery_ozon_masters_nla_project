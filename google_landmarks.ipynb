{
 "cells": [
  {
   "cell_type": "code",
   "execution_count": 21,
   "metadata": {},
   "outputs": [],
   "source": [
    "import pandas as pd\n",
    "import numpy as np\n",
    "\n",
    "import matplotlib.pyplot as plt\n",
    "\n",
    "from itertools import product, cycle\n",
    "from functools import reduce\n",
    "from operator import mul\n",
    "\n",
    "from tqdm.notebook import tqdm\n",
    "\n",
    "import requests\n",
    "import shutil\n",
    "\n",
    "import image_recovery.linalg as irl\n",
    "import image_recovery.imglib as iri\n",
    "\n",
    "import glob\n",
    "import os\n",
    "\n",
    "import cv2\n",
    "\n",
    "SEED = 42"
   ]
  },
  {
   "cell_type": "markdown",
   "metadata": {},
   "source": [
    "## Downloading images"
   ]
  },
  {
   "cell_type": "code",
   "execution_count": 18,
   "metadata": {
    "scrolled": true
   },
   "outputs": [
    {
     "name": "stdout",
     "output_type": "stream",
     "text": [
      "1. Successfully downloaded https://lh3.googleusercontent.com/-VahX3jqoUFU/TyV_dOBpkJI/AAAAAAAAAZA/y_KzLanV28M/s1600/\n",
      "Image has resolution 1600 x 1067. Shrinked to 678 x 452\n",
      "2. Successfully downloaded https://lh3.googleusercontent.com/-SJMDqfwNHPI/UHNOORpGLDI/AAAAAAAAAGk/W8Q9ZNKsyWo/s0-d/\n",
      "Failed to download https://lh5.googleusercontent.com/-4O9sMpIES6g/UCzh5J-cC4I/AAAAAAAAACI/aggQj2Tru-0/s1600/\n",
      "3. Successfully downloaded http://lh6.ggpht.com/-nzFxxt4sjUw/UC7kFgyVpgI/AAAAAAAACtE/1Uzz4ag-LQY/s1600/\n",
      "Image has resolution 1600 x 1200. Shrinked to 640 x 480\n",
      "4. Successfully downloaded https://lh4.googleusercontent.com/-t0VADskyAa8/TAxl6bauAcI/AAAAAAAAAog/QRkOrtUPmwg/s1600/\n",
      "Image has resolution 1200 x 1600. Shrinked to 480 x 640\n",
      "5. Successfully downloaded https://lh6.googleusercontent.com/-yXVp75i5xUk/Ue6SPeGaDLI/AAAAAAAAhDY/qQfAzI-vWGY/s1600/\n",
      "Image has resolution 1600 x 1067. Shrinked to 678 x 452\n",
      "6. Successfully downloaded http://lh3.ggpht.com/-LEvAsRLnwlE/RqKpfqhW5PI/AAAAAAAAAS0/oWBz7PBE_Ec/rj/\n",
      "7. Successfully downloaded https://lh4.googleusercontent.com/-syeUMaE6004/Syp48WoEstI/AAAAAAAABmw/C_2gqbjz8us/s1600/\n",
      "Image has resolution 1200 x 1600. Shrinked to 480 x 640\n",
      "8. Successfully downloaded http://lh3.ggpht.com/-QNUvU7Fh0TA/SjZQlzHJiLI/AAAAAAAAAF8/cIHCJL12Yek/s1600/\n",
      "Image has resolution 1200 x 1600. Shrinked to 480 x 640\n",
      "9. Successfully downloaded https://lh3.googleusercontent.com/-QUj0-Fzi_OQ/RpIxSChkLaI/AAAAAAAAAYc/bRWKA7juqRg/rj/\n",
      "10. Successfully downloaded http://lh6.ggpht.com/-O4iAad_a41o/TDHFhlEafII/AAAAAAAAAQQ/sSE0wKPfU2I/s1600/\n",
      "Image has resolution 1200 x 1600. Shrinked to 480 x 640\n",
      "11. Successfully downloaded https://lh5.googleusercontent.com/-e2ssa7G2HXw/S0NoItc_tRI/AAAAAAAAHfQ/omH-VjUZxws/s1600/\n",
      "Image has resolution 1200 x 1600. Shrinked to 480 x 640\n",
      "12. Successfully downloaded https://lh3.googleusercontent.com/-eDetNYBDHfc/TN2BEfXE5aI/AAAAAAAAAvI/v9DSr3TOFA4/s1600/\n",
      "Image has resolution 1600 x 1200. Shrinked to 640 x 480\n",
      "13. Successfully downloaded http://lh4.ggpht.com/-huAfJHBCny4/R4qGq0eug4I/AAAAAAAAAdM/3x_UK9e_ZDA/s1600/\n",
      "Image has resolution 1197 x 1600. Shrinked to 479 x 640\n",
      "14. Successfully downloaded https://lh6.googleusercontent.com/-ulBPUJT0iAM/SH8fPAWOG5I/AAAAAAAAAYw/jxAPYEuxr0o/s1600/\n",
      "Image has resolution 1200 x 1600. Shrinked to 480 x 640\n",
      "15. Successfully downloaded https://lh5.googleusercontent.com/-AKyoxdvn_Og/RguEhYrk08I/AAAAAAAABfQ/Lhk1KZo5QWU/rj/\n",
      "16. Successfully downloaded https://lh5.googleusercontent.com/-IpD2sDI2zWY/SqU8udw2PWI/AAAAAAAAA3E/xdQUdRneqzQ/s1600/\n",
      "Failed to get URL https://lh5.googleusercontent.com/-IpD2sDI2zWY/SqU8udw2PWI/AAAAAAAAA3E/xdQUdRneqzQ/s1600/\n",
      "16. Successfully downloaded http://lh6.ggpht.com/-twaBoOaiHZs/RzI_yXr6smI/AAAAAAAAAz4/LcNYaMasMGs/s1600/\n",
      "Image has resolution 1200 x 1600. Shrinked to 480 x 640\n",
      "17. Successfully downloaded https://lh4.googleusercontent.com/-I81ZRMojuaM/T_J_3PEZ1FI/AAAAAAAASpo/j14c6Bikytg/s1600/\n",
      "Image has resolution 1200 x 1600. Shrinked to 480 x 640\n",
      "Failed to download http://mw2.google.com/mw-panoramio/photos/medium/84643407.jpg\n",
      "18. Successfully downloaded https://lh4.googleusercontent.com/-aMAznRPngQA/TAfaK9G17XI/AAAAAAAAKYM/bakiNanfAiI/s1600/\n",
      "Failed to download https://lh5.googleusercontent.com/-FDXLxLSUoXw/T73VFYBmsoI/AAAAAAAAAs4/O1uG-yfpFys/s128/\n",
      "19. Successfully downloaded https://lh4.googleusercontent.com/-dsEKp1cUoSA/R6hb0vzxV_I/AAAAAAAAB7g/6uF_5tFdw5o/s1600/\n",
      "Image has resolution 1200 x 1600. Shrinked to 480 x 640\n",
      "20. Successfully downloaded http://lh3.ggpht.com/-m8QZE7mJqow/SGdlz_d0aaI/AAAAAAAABDA/CGN5jEXcf2w/s1600/\n",
      "Image has resolution 1200 x 1600. Shrinked to 480 x 640\n",
      "21. Successfully downloaded http://lh6.ggpht.com/-3-mTa_B5_lI/R6AzvuPXZmI/AAAAAAAABcw/GQX3uTNBEmE/s1600/\n",
      "22. Successfully downloaded http://lh5.ggpht.com/-WwKB3SoW-Tc/SThDqAREXJI/AAAAAAAAB8s/H9eyZN5bnQI/s1600/\n",
      "Image has resolution 1600 x 1200. Shrinked to 640 x 480\n",
      "23. Successfully downloaded https://lh4.googleusercontent.com/-9bwqNeu3DR8/To6_9ysOn8I/AAAAAAAAIC0/6ekbdc9fXsM/s1600/\n",
      "Image has resolution 600 x 800. Shrinked to 480 x 640\n",
      "24. Successfully downloaded https://lh6.googleusercontent.com/-s5oHa0P2s_Q/Tjx3ovbjJrI/AAAAAAAABqQ/RRMKVJU3xfk/s1600/\n",
      "Image has resolution 1600 x 1200. Shrinked to 640 x 480\n",
      "25. Successfully downloaded http://lh6.ggpht.com/-oRq1BqVIYlU/SSk67urChoI/AAAAAAAACy4/VXLtollzre0/s1600/\n",
      "Image has resolution 1024 x 768. Shrinked to 640 x 480\n",
      "26. Successfully downloaded https://lh5.googleusercontent.com/-fcbUzDxux3Y/SowlE8N5QVI/AAAAAAAACNg/Rf_xAXw_4RY/s1600/\n",
      "Image has resolution 1071 x 1600. Shrinked to 453 x 677\n",
      "27. Successfully downloaded https://lh3.googleusercontent.com/-wAM8ysbXwes/UDswDQwqBmI/AAAAAAAAA80/Vhtz8dtyqUc/s1600/\n",
      "Image has resolution 1600 x 1200. Shrinked to 640 x 480\n",
      "28. Successfully downloaded https://lh4.googleusercontent.com/-XbAHRxy1MmM/SZko5Kl6XEI/AAAAAAAADWI/KbdQ6BY89Co/rj/\n",
      "29. Successfully downloaded https://lh4.googleusercontent.com/-slsAKryV1Fc/Shc0UHBUYHI/AAAAAAAAB6E/Nlc9pOnZsKU/rj/\n",
      "30. Successfully downloaded http://lh5.ggpht.com/-_WSyeXU1Sg8/RhmfA2rYPOI/AAAAAAAAAjw/8bE5V2CLENQ/s1600/\n",
      "Image has resolution 1200 x 1600. Shrinked to 480 x 640\n",
      "Failed to download https://lh5.googleusercontent.com/-7Dmaoa2-W8Q/Uxieq7oZ3VI/AAAAAAAAABQ/DDHWJDyB3cA/s1600/\n",
      "31. Successfully downloaded http://lh6.ggpht.com/-EYoQe-tZK9k/Te-ewIyKYwI/AAAAAAAAB6k/T3ySRmwljtk/s1600/\n",
      "Image has resolution 1000 x 750. Shrinked to 640 x 480\n",
      "32. Successfully downloaded https://lh3.googleusercontent.com/-bouSHCnyhm4/TJAyJ_L3AoI/AAAAAAAAZ1w/up1SScGckd8/s1600/\n",
      "Image has resolution 1071 x 1600. Shrinked to 453 x 677\n",
      "33. Successfully downloaded http://lh5.ggpht.com/-IKBHockpVlI/SxaqLnhw6tI/AAAAAAAAApM/XCsRCVmOGcE/s1600/\n",
      "Image has resolution 1024 x 682. Shrinked to 679 x 452\n",
      "34. Successfully downloaded http://lh5.ggpht.com/-0wB8IUxsV_s/R2CG_k5-a8I/AAAAAAAAAEw/ZBh_OtreXcU/rj/\n",
      "35. Successfully downloaded https://lh5.googleusercontent.com/-D70Wm_Ax-qE/SaVKW97McgI/AAAAAAAAJg4/CKWy66XJOdM/s1600/\n",
      "Image has resolution 768 x 1024. Shrinked to 480 x 640\n",
      "36. Successfully downloaded https://lh6.googleusercontent.com/-12aN35HMZtU/UayZegwvAmI/AAAAAAAAFxQ/6uDSMmDgCms/s1600/\n",
      "37. Successfully downloaded https://lh5.googleusercontent.com/-16IZqjWoNFE/TGAp9G9EPHI/AAAAAAAAESw/-jtE3coM5io/rj/\n",
      "38. Successfully downloaded http://lh6.ggpht.com/-xET1Gh2TrB8/SxvDiHnSs6I/AAAAAAAAAPM/tMfoAKc3jYk/s1600/\n",
      "Image has resolution 533 x 800. Shrinked to 452 x 679\n",
      "39. Successfully downloaded https://lh3.googleusercontent.com/-rL7YJnGHwmk/SyRAEWJloQI/AAAAAAAABUs/j_8PsKGyA_M/s1600/\n",
      "Image has resolution 1200 x 1600. Shrinked to 480 x 640\n",
      "40. Successfully downloaded https://lh6.googleusercontent.com/-mZkqzRcvd5c/UbTQc4rm4-I/AAAAAAAADw8/DgIB6rpyVf4/s1600/\n",
      "Image has resolution 1062 x 1600. Shrinked to 451 x 680\n",
      "Failed to download http://mw2.google.com/mw-panoramio/photos/medium/25943422.jpg\n",
      "41. Successfully downloaded https://lh4.googleusercontent.com/-LWncY3vzvzo/SofR0pLWjFI/AAAAAAAABSE/iVwrQuxCYAE/s1600/\n",
      "Image has resolution 734 x 979. Shrinked to 479 x 640\n",
      "42. Successfully downloaded https://lh6.googleusercontent.com/-uj3U2b3DVYE/TMTCDiHX_tI/AAAAAAAACZA/ttP7EIBXFCo/s1600/\n",
      "Image has resolution 1200 x 1600. Shrinked to 480 x 640\n",
      "43. Successfully downloaded https://lh3.googleusercontent.com/-AoARhGocLX0/SC7fc4O9wRI/AAAAAAAAAGw/YXSGj5bqeXg/s1600/\n",
      "Image has resolution 1200 x 1600. Shrinked to 480 x 640\n",
      "44. Successfully downloaded http://lh4.ggpht.com/-x_tjbOzhzU8/R7HvlIiiIjI/AAAAAAAABWM/w1lVXRxQ-fo/s1600/\n",
      "Image has resolution 1200 x 1600. Shrinked to 480 x 640\n",
      "45. Successfully downloaded https://lh5.googleusercontent.com/-RNdGhmRS3iI/RRtTveHUABI/AAAAAAAAAhQ/zLFGFFb2MIQ/s1600/\n",
      "46. Successfully downloaded https://lh4.googleusercontent.com/-YEIL8T3f96c/Tu2qRD-ijyI/AAAAAAAFQH8/CU_JPLf3oys/s1600/\n",
      "Image has resolution 768 x 1024. Shrinked to 480 x 640\n",
      "47. Successfully downloaded https://lh4.googleusercontent.com/-SGQol5kOrUA/TESSkkVpHWI/AAAAAAAAFjE/3DMe_wi5qp4/s1600/\n",
      "Image has resolution 1067 x 1600. Shrinked to 452 x 678\n",
      "48. Successfully downloaded http://lh5.ggpht.com/-4lsLgqjIlkw/SuekmANtheI/AAAAAAAAB8Y/Ln00U4GuASk/s1600/\n",
      "Image has resolution 1200 x 1600. Shrinked to 480 x 640\n",
      "49. Successfully downloaded http://lh3.ggpht.com/-pLNbuEovOas/SCCpqupgiPI/AAAAAAAAA5I/XYfqADV-9Oc/s1600/\n"
     ]
    },
    {
     "name": "stdout",
     "output_type": "stream",
     "text": [
      "Image has resolution 1600 x 1068. Shrinked to 678 x 452\n",
      "Failed to download http://mw2.google.com/mw-panoramio/photos/medium/21222578.jpg\n",
      "50. Successfully downloaded http://lh5.ggpht.com/aleksander.blasiak/R4TZxDVYkLI/AAAAAAAAAL0/jNoUMsX_TEw/s1024/\n",
      "Image has resolution 681 x 1024. Shrinked to 451 x 679\n",
      "51. Successfully downloaded http://lh3.ggpht.com/-L3mp62yYC2U/SKwpteyF2vI/AAAAAAAACa0/X7CiSRd2mdw/s1600/\n",
      "Image has resolution 1200 x 1600. Shrinked to 480 x 640\n",
      "52. Successfully downloaded https://lh4.googleusercontent.com/-xdzzrN9acCc/SC5nUFfByCI/AAAAAAAAAWk/JJHl8tJaz_c/s1600/\n",
      "Image has resolution 1200 x 1600. Shrinked to 480 x 640\n",
      "53. Successfully downloaded http://lh6.ggpht.com/-E80ZyW-AtgI/SZwnkhS76FI/AAAAAAAAFQc/1wSBetG4t-Y/s1600/\n",
      "Image has resolution 1200 x 1600. Shrinked to 480 x 640\n",
      "54. Successfully downloaded https://lh3.googleusercontent.com/-5mZsDPt5PcA/Sj6vDTdbZuI/AAAAAAAADD4/8zhXGFkvrzk/s1600/\n",
      "Image has resolution 1600 x 1200. Shrinked to 640 x 480\n",
      "55. Successfully downloaded https://lh3.googleusercontent.com/-nypsjGRL5j8/RvM-jvkV7JI/AAAAAAAAAWg/yd2Zhag9UJM/s1600/\n",
      "Image has resolution 1200 x 1600. Shrinked to 480 x 640\n",
      "56. Successfully downloaded https://lh3.googleusercontent.com/-RIT8k6Kn-SA/UGtIfkNJPHI/AAAAAAAAK3Y/YgTTOrHiGsI/s1600/\n",
      "Image has resolution 1200 x 1600. Shrinked to 480 x 640\n",
      "57. Successfully downloaded https://lh5.googleusercontent.com/-cXixXJDMVbg/TFb42g5YHhI/AAAAAAAABvQ/baM5VwzYgdw/rj/\n",
      "58. Successfully downloaded https://lh4.googleusercontent.com/-HDu1YrPATuA/SHzkt73MwLI/AAAAAAAAAFc/Azmj5lHoXGE/s1600/\n",
      "Image has resolution 1200 x 1600. Shrinked to 480 x 640\n",
      "59. Successfully downloaded https://lh4.googleusercontent.com/-xDYB3EQlXwI/TPOnW1GRPqI/AAAAAAAABdE/A9qdztrnr-I/s1600/\n",
      "Image has resolution 1200 x 1600. Shrinked to 480 x 640\n",
      "60. Successfully downloaded http://lh3.ggpht.com/-5NhdJ3oxFzA/SGkqUJtJNiI/AAAAAAAAAHk/a3GbSLiOemo/s1600/\n",
      "Image has resolution 1152 x 1536. Shrinked to 480 x 640\n",
      "61. Successfully downloaded http://lh4.ggpht.com/-T1XsXL1CqL4/SAqpuJA9EPI/AAAAAAAAAeI/dOU_do-T2-4/s1600/\n",
      "Image has resolution 1200 x 1600. Shrinked to 480 x 640\n",
      "62. Successfully downloaded http://lh5.ggpht.com/-4THD7MPo9Qg/SqPP2ggfIoI/AAAAAAAAvzo/h7eJpQZIabA/rj/\n",
      "63. Successfully downloaded https://lh4.googleusercontent.com/-rZ-oKMo34YQ/TJp1p9W-pOI/AAAAAAAAEic/YBJUE6ALv1s/rj/\n",
      "64. Successfully downloaded https://lh4.googleusercontent.com/-kuuWqMqGcIs/TF9DR4JtfNI/AAAAAAAADVs/Anykhmk2XbA/s1600/\n",
      "Image has resolution 1600 x 1200. Shrinked to 640 x 480\n",
      "65. Successfully downloaded https://lh3.googleusercontent.com/-JXXNhX0slig/THbAGIFUeZI/AAAAAAAABuk/RZCf7BHIBVI/s1600/\n",
      "Image has resolution 1200 x 1600. Shrinked to 480 x 640\n",
      "66. Successfully downloaded https://lh5.googleusercontent.com/-Fu_xqDi2o1U/TO3Z6yAMeSI/AAAAAAAAOgk/_MkN7Emmyrw/s1600/\n",
      "Image has resolution 853 x 1280. Shrinked to 452 x 678\n",
      "Failed to download http://mw2.google.com/mw-panoramio/photos/medium/45852961.jpg\n",
      "67. Successfully downloaded https://lh3.googleusercontent.com/-Na-3mSotlx8/RofthKF7IdI/AAAAAAAABZw/mj-NpfahPE8/s1600/\n",
      "Image has resolution 1200 x 1600. Shrinked to 480 x 640\n",
      "68. Successfully downloaded https://lh4.googleusercontent.com/-03X2SjZhtzU/SzPUoPlM9dI/AAAAAAAAJ2g/dqjCMwvuehM/s1600/\n",
      "Image has resolution 1200 x 1600. Shrinked to 480 x 640\n",
      "69. Successfully downloaded https://lh5.googleusercontent.com/-dmvJtcNagqc/TYg3OJMImRI/AAAAAAAAADA/wXqlCiqvkRY/s1600/\n",
      "Image has resolution 1200 x 1600. Shrinked to 480 x 640\n",
      "70. Successfully downloaded http://lh3.ggpht.com/-i3jWFFgBMoI/TWkayUCAp2I/AAAAAAAADPM/sIZ9vIqxhPE/s1600/\n",
      "Image has resolution 1067 x 1600. Shrinked to 452 x 678\n",
      "71. Successfully downloaded http://lh4.ggpht.com/-nWoduezhB0g/TJk5CQox7LI/AAAAAAAAD5A/ogPvDNzT3Hg/s1600/\n",
      "Image has resolution 1200 x 1600. Shrinked to 480 x 640\n",
      "72. Successfully downloaded https://lh6.googleusercontent.com/-D7KwkiPcBHE/TcVKmzRtLpI/AAAAAAAAB-g/-pIA-z6pYdE/s1600/\n",
      "Image has resolution 1600 x 1064. Shrinked to 679 x 451\n",
      "73. Successfully downloaded https://lh6.googleusercontent.com/-PGcsB6Ma5dA/R6_6du88kmI/AAAAAAAACn4/a4sH2fdw1xY/s1600/\n",
      "Image has resolution 1200 x 1600. Shrinked to 480 x 640\n",
      "Failed to download https://lh5.googleusercontent.com/-ID4bkzGOuqs/SPo_n37nlII/AAAAAAAACgk/0BOtF9Q0eC4/s1600/\n",
      "Failed to get URL None\n",
      "74. Successfully downloaded https://lh6.googleusercontent.com/-7sdvJf2UJwo/SQtXRSHZGqI/AAAAAAAAMZw/eW9ZWW0DzaM/s1600/\n",
      "Image has resolution 1067 x 1600. Shrinked to 452 x 678\n",
      "75. Successfully downloaded https://lh4.googleusercontent.com/-7CU335YX9xA/Tit_8b5HPGI/AAAAAAAAAUU/QEEgmA8xHdc/s1600/\n",
      "76. Successfully downloaded https://lh5.googleusercontent.com/-Zh26JWXAVnY/SMbENon4pHI/AAAAAAAACKw/j3TZ3zM85fI/s1600/\n",
      "Image has resolution 681 x 1024. Shrinked to 451 x 679\n",
      "77. Successfully downloaded https://lh4.googleusercontent.com/-fY419rH6ayM/RhFsG-dTfOI/AAAAAAAABec/bmTVIfdR_G8/s1600/\n",
      "Image has resolution 1064 x 1600. Shrinked to 451 x 679\n",
      "Failed to download http://static.panoramio.com/photos/original/99283278.jpg\n",
      "78. Successfully downloaded http://lh5.ggpht.com/-qNU0x5d_3y4/SHtxG-TC_RI/AAAAAAAAHnk/m6scIaXVAwY/s1600/\n",
      "Image has resolution 1600 x 1200. Shrinked to 640 x 480\n",
      "79. Successfully downloaded http://lh3.ggpht.com/-JanlJXduJgo/SUwXstto8wI/AAAAAAAAAcQ/mtQPUVc-5UI/s1600/\n",
      "Image has resolution 1193 x 1600. Shrinked to 478 x 641\n",
      "80. Successfully downloaded https://lh5.googleusercontent.com/-alijmO2PoWw/RR_oZIoZABI/AAAAAAAABW0/HyeXrUA0Fd8/s1600/\n",
      "Image has resolution 1600 x 1200. Shrinked to 640 x 480\n",
      "81. Successfully downloaded https://lh6.googleusercontent.com/-h1_btItZfjM/Tqc6vWiJbdI/AAAAAAAAcos/SKcotHtxNJc/s1600/\n",
      "Image has resolution 1200 x 1600. Shrinked to 480 x 640\n",
      "82. Successfully downloaded https://lh5.googleusercontent.com/-yvkDHOuZGOk/ThFwi1i8SfI/AAAAAAAAA8E/OU_N99OPT5g/s1600/\n",
      "Image has resolution 1200 x 1600. Shrinked to 480 x 640\n",
      "Failed to download http://mw2.google.com/mw-panoramio/photos/medium/24902236.jpg\n",
      "83. Successfully downloaded https://lh3.googleusercontent.com/-k6HvO8iBEjw/RuyLWo1sUkI/AAAAAAAAAvY/cEBoQWdUKK4/s1600/\n",
      "Image has resolution 1197 x 1600. Shrinked to 479 x 640\n",
      "84. Successfully downloaded http://lh5.ggpht.com/-6irU61352l8/TrTDLsPe6DI/AAAAAAAAI50/NbIY79gPp9o/s1600/\n",
      "Image has resolution 1067 x 1600. Shrinked to 452 x 678\n",
      "85. Successfully downloaded http://lh3.ggpht.com/-3uJKpKuurtI/T4elH82gmXI/AAAAAAAAAQQ/w6HW14Hi1J8/s1600/\n",
      "86. Successfully downloaded http://lh6.ggpht.com/-XmmGOxuphFY/SB4ZnPUXrfI/AAAAAAAABQQ/L9wiBkNOoY8/s1600/\n",
      "Image has resolution 1071 x 1600. Shrinked to 453 x 677\n",
      "87. Successfully downloaded https://lh4.googleusercontent.com/-zlrKLfhOADQ/TchFjpiJveI/AAAAAAAADXQ/Jndd5KPNyik/s1600/\n",
      "Image has resolution 768 x 1024. Shrinked to 480 x 640\n",
      "88. Successfully downloaded https://lh6.googleusercontent.com/-KeGDFUYQtC8/S9JxUxZIInI/AAAAAAAAAtE/2ihx4IGQ-fw/rj/\n",
      "89. Successfully downloaded https://lh4.googleusercontent.com/-bqVO5mYhnug/TA_frLnYSNI/AAAAAAAAHbI/TLUQHYHVn-M/s1600/\n",
      "Image has resolution 1067 x 1600. Shrinked to 452 x 678\n",
      "90. Successfully downloaded https://lh3.googleusercontent.com/-w0EV_W4bhoY/Um2DZi6D8BI/AAAAAAAAB_I/ZVAl4ywV2rU/s1600/\n",
      "Image has resolution 1200 x 1600. Shrinked to 480 x 640\n",
      "91. Successfully downloaded http://lh3.ggpht.com/-1QN-Aam2iIU/SQC04wHr-OI/AAAAAAAABMY/7NBVbfKP1D4/s1600/\n",
      "92. Successfully downloaded https://lh3.googleusercontent.com/-I1SwyEIbycI/SQAPGocwDQI/AAAAAAAAAl0/8TVm16VhQyo/s1600/\n",
      "Image has resolution 1600 x 1200. Shrinked to 640 x 480\n",
      "93. Successfully downloaded https://lh5.googleusercontent.com/-BfLXBF1l6c8/S-rqRV79_fI/AAAAAAAAAzs/203W82qI9cw/s1600/\n",
      "Image has resolution 1074 x 1600. Shrinked to 454 x 676\n",
      "94. Successfully downloaded http://lh4.ggpht.com/-mG-13FLqrKc/R1A6EmH9HqI/AAAAAAAAAZ4/zomMXFyNjc0/s1600/\n",
      "Image has resolution 900 x 1200. Shrinked to 480 x 640\n",
      "Failed to download http://mw2.google.com/mw-panoramio/photos/medium/51340138.jpg\n",
      "95. Successfully downloaded https://lh6.googleusercontent.com/-UbcnYYUWXN8/URmuZBxsCLI/AAAAAAAABmk/6cCmE-jWurw/s1600/\n",
      "Image has resolution 1200 x 1600. Shrinked to 480 x 640\n",
      "96. Successfully downloaded http://lh3.ggpht.com/-1GsVhiktGLs/RysfzNJzfMI/AAAAAAAACeM/DcLuwJLg3Zs/rj/\n",
      "97. Successfully downloaded https://lh6.googleusercontent.com/-s9Hr5bd82BU/SjxJfoUzWpI/AAAAAAAAZGE/_v6H1KWfBEg/s1600/\n",
      "Image has resolution 1200 x 1600. Shrinked to 480 x 640\n",
      "Failed to download http://mw2.google.com/mw-panoramio/photos/medium/84045358.jpg\n"
     ]
    },
    {
     "name": "stdout",
     "output_type": "stream",
     "text": [
      "Failed to download http://mw2.google.com/mw-panoramio/photos/medium/73858989.jpg\n",
      "98. Successfully downloaded https://lh6.googleusercontent.com/-6nHbk4OtVdk/Rn__c9t_NWI/AAAAAAAAA-8/NWmbCQJmNog/s1600/\n",
      "Image has resolution 1200 x 1600. Shrinked to 480 x 640\n",
      "99. Successfully downloaded https://lh5.googleusercontent.com/-ohgOppknm-Q/Sc5tQ0f3LJI/AAAAAAAACBc/mDMdROEdFAQ/s1600/\n",
      "Image has resolution 768 x 1024. Shrinked to 480 x 640\n",
      "100. Successfully downloaded https://lh5.googleusercontent.com/-7UstUBPYn3I/T9Wg9j61p9I/AAAAAAAAIBE/98JZn0jdtCM/s1600/\n",
      "Image has resolution 540 x 720. Shrinked to 480 x 640\n",
      "101. Successfully downloaded http://lh6.ggpht.com/-1s24b36yGBA/SJ2vzgE22xI/AAAAAAAAQCo/0IUSuZZVF4Y/s1600/\n",
      "102. Successfully downloaded https://lh4.googleusercontent.com/-V4772_FFk8o/StJkEribRDI/AAAAAAAAGTI/KgY3bQ6nPO8/s1600/\n",
      "Image has resolution 1200 x 1600. Shrinked to 480 x 640\n",
      "103. Successfully downloaded http://lh4.ggpht.com/-WlmWatSLrks/SPNoiriCwCI/AAAAAAAAAMg/cCn64AasFNQ/s1600/\n",
      "104. Successfully downloaded http://lh6.ggpht.com/-VFqEH3prhks/Rnr7zghBgYI/AAAAAAAAA0k/chh1jFW-Lo8/s1600/\n",
      "Image has resolution 1200 x 1600. Shrinked to 480 x 640\n",
      "105. Successfully downloaded https://lh6.googleusercontent.com/-gv1vvtSAvFg/TkoyY5uo7HI/AAAAAAAAIQA/mnwdWtbT04E/s1600/\n",
      "Image has resolution 600 x 800. Shrinked to 480 x 640\n",
      "106. Successfully downloaded http://lh5.ggpht.com/-2ERi0dte8Jg/SGqiLQYNiGI/AAAAAAAAAno/Cls91_dWQFE/s1600/\n",
      "Image has resolution 1200 x 1600. Shrinked to 480 x 640\n",
      "107. Successfully downloaded https://lh5.googleusercontent.com/-WcB_lQqdhn8/Tm-dFJpVZDI/AAAAAAAACUE/3s0i71m4b1s/s1600/\n",
      "Image has resolution 600 x 800. Shrinked to 480 x 640\n",
      "Failed to get URL None\n",
      "108. Successfully downloaded https://lh4.googleusercontent.com/-fAk-19MDjCw/TCIkU9GGDtI/AAAAAAAAFVs/4cjVdXdIVQw/s1600/\n",
      "Failed to download https://lh4.googleusercontent.com/-LIUnp4ARJEM/T6V5oyiLNlI/AAAAAAAAABc/4iAFh0dEON4/s1600/\n",
      "109. Successfully downloaded https://lh6.googleusercontent.com/-Hpk4K-QIJvg/RrvcaSiNsDI/AAAAAAAAAKE/OYA7xVmvNFA/s1600/\n",
      "Image has resolution 1200 x 1600. Shrinked to 480 x 640\n",
      "110. Successfully downloaded https://lh6.googleusercontent.com/-cniWuvrPJEo/SIoT_xbs-hI/AAAAAAAAEqY/XIMSrxUoPJw/s1600/\n",
      "Image has resolution 1200 x 1600. Shrinked to 480 x 640\n",
      "111. Successfully downloaded https://lh3.googleusercontent.com/-7e7YRQDo4KE/RawvDOC-dQI/AAAAAAAAA6A/kpYXKVjxIqk/s1600/\n",
      "Image has resolution 768 x 1024. Shrinked to 480 x 640\n",
      "112. Successfully downloaded https://lh5.googleusercontent.com/-gZ6FZQBlez0/Sv8ltWqQVrI/AAAAAAAAAJA/RULSwmJfFkc/s1600/\n",
      "Image has resolution 1200 x 1600. Shrinked to 480 x 640\n",
      "113. Successfully downloaded https://lh6.googleusercontent.com/-4l4Xu8w_5s4/SgbDsEfvnQI/AAAAAAAAaJ8/yK9fNhDNPSc/s1600/\n",
      "Image has resolution 1600 x 1200. Shrinked to 640 x 480\n",
      "114. Successfully downloaded http://lh3.ggpht.com/-D39g9jMNs0s/T6mmERLwb8I/AAAAAAAAXJk/R3cTFkSR-GE/s1600/\n",
      "Image has resolution 1600 x 1028. Shrinked to 691 x 444\n",
      "Failed to download http://static.panoramio.com/photos/original/1942388.jpg\n",
      "115. Successfully downloaded https://lh3.googleusercontent.com/-28lur9DfAZw/TBsoBqJ9E6I/AAAAAAAAWvw/qO1hL-IERxw/s1600/\n",
      "Image has resolution 1200 x 1600. Shrinked to 480 x 640\n",
      "116. Successfully downloaded https://lh6.googleusercontent.com/-V446ZMrLakc/UoaAXhvBjrI/AAAAAAAACg0/rbbfTlrIZJE/s1600/\n",
      "Image has resolution 1200 x 1600. Shrinked to 480 x 640\n",
      "117. Successfully downloaded http://lh3.ggpht.com/-dNfyfYT777k/SWIzqDMMQEI/AAAAAAAABaQ/DAxVhmhpQH0/s1600/\n",
      "Image has resolution 1600 x 1063. Shrinked to 679 x 451\n",
      "Failed to download https://lh3.googleusercontent.com/-tAC1Zjud6zI/T3EFFh2be6I/AAAAAAAAACM/4Q4ZWA1lfiQ/s1600/\n",
      "118. Successfully downloaded http://lh6.ggpht.com/-DQSO-hic5L8/T_GHOjEe-MI/AAAAAAAAAEI/tzFUVD1Euuo/s1600/\n",
      "Image has resolution 1066 x 1600. Shrinked to 452 x 679\n",
      "119. Successfully downloaded https://lh5.googleusercontent.com/-MbpuuMc3wNY/RqvO79iOHeI/AAAAAAAABFs/VvYvBQuMqXc/rj/\n",
      "120. Successfully downloaded https://lh5.googleusercontent.com/-5ctz4WYN78c/SHlluCejE9I/AAAAAAAALZk/-TnoM0u_uSM/s1600/\n",
      "Image has resolution 768 x 1024. Shrinked to 480 x 640\n",
      "121. Successfully downloaded https://lh6.googleusercontent.com/-uAb00gBNbg8/R2HwhSUn95I/AAAAAAAAALQ/_9o-4wJXHac/rj/\n",
      "122. Successfully downloaded https://lh4.googleusercontent.com/-W0rcw-Utii4/Tzz3IPijnkI/AAAAAAAAAns/jmdqE5Pqo6g/s1600/\n",
      "Image has resolution 1066 x 1600. Shrinked to 452 x 679\n",
      "123. Successfully downloaded http://lh6.ggpht.com/-TFlxEjQi2RM/S97V-CE3orI/AAAAAAAACzo/Eh7LvAK-E-Q/s1600/\n",
      "Image has resolution 1024 x 768. Shrinked to 640 x 480\n",
      "124. Successfully downloaded https://lh6.googleusercontent.com/-UjJflRNa6PA/UVP_6UAtJNI/AAAAAAAALkU/dy717kQ_Dqc/s1600/\n",
      "Image has resolution 1200 x 1600. Shrinked to 480 x 640\n",
      "125. Successfully downloaded http://lh6.ggpht.com/-Rox3kMD32h4/Su9ZYPS2bXI/AAAAAAAAARc/WeOXy2Ee95M/rj/\n",
      "Failed to download http://mw2.google.com/mw-panoramio/photos/medium/26097442.jpg\n",
      "126. Successfully downloaded https://lh3.googleusercontent.com/-x9nYPtpvJzI/SLhFnGMKwqI/AAAAAAAAFR8/DUuhWfkyloY/s1600/\n",
      "Image has resolution 1600 x 1200. Shrinked to 640 x 480\n",
      "127. Successfully downloaded https://lh5.googleusercontent.com/-4eiaI4y_Ct0/TBY_FYJNndI/AAAAAAAAAVk/kqM8yRpTzkc/s1600/\n",
      "Image has resolution 768 x 1024. Shrinked to 480 x 640\n",
      "128. Successfully downloaded https://lh5.googleusercontent.com/-Ju8uSNBZ1Ws/UI0Y3Em3JZI/AAAAAAAACVI/_nRWUJMWzk4/s1600/\n",
      "Image has resolution 1200 x 1600. Shrinked to 480 x 640\n",
      "129. Successfully downloaded http://lh4.ggpht.com/-R7b0GyG9Zhc/Rsv8m5Zd8yI/AAAAAAAAAX8/d1wXdruAcyg/s1600/\n",
      "Image has resolution 1200 x 1600. Shrinked to 480 x 640\n",
      "130. Successfully downloaded https://lh3.googleusercontent.com/-f5Swm0qCVuE/TT7Duuo2QnI/AAAAAAAAFqE/4DvoeTTAO0o/s1600/\n",
      "Image has resolution 1600 x 1200. Shrinked to 640 x 480\n",
      "131. Successfully downloaded https://lh3.googleusercontent.com/-OnANKCIUnIY/TSTQvdx19LI/AAAAAAAAFRU/kb_x8AGcfig/s1600/\n",
      "Image has resolution 1200 x 1600. Shrinked to 480 x 640\n",
      "132. Successfully downloaded https://lh5.googleusercontent.com/-xnaApNYHshs/RZ67KCaaznI/AAAAAAAAAGs/PsuvJnJOwJk/s1600/\n",
      "Image has resolution 1064 x 1600. Shrinked to 451 x 679\n",
      "133. Successfully downloaded http://lh3.ggpht.com/-vTXB1Mgqk9I/SQCuEjS0mkI/AAAAAAAAA3g/BDZkiwNcKuI/s1600/\n",
      "134. Successfully downloaded https://lh6.googleusercontent.com/-uNGFvD3a8-M/TNhW33bea3I/AAAAAAAAK3o/PEBjaTTxXIs/s1600/\n",
      "Image has resolution 1200 x 1600. Shrinked to 480 x 640\n",
      "135. Successfully downloaded https://lh5.googleusercontent.com/-6Dp2K4-LUQs/UI71W2HnTfI/AAAAAAAAEcM/5etf8E_dhyg/s1600/\n",
      "Image has resolution 600 x 800. Shrinked to 480 x 640\n",
      "136. Successfully downloaded http://lh4.ggpht.com/-KLuDPCi7ymA/SAIjWkivGzI/AAAAAAAABQo/eI7rTYgB32w/s1600/\n",
      "Image has resolution 1600 x 1200. Shrinked to 640 x 480\n",
      "Failed to download http://mw2.google.com/mw-panoramio/photos/medium/33274430.jpg\n",
      "137. Successfully downloaded http://lh3.ggpht.com/--P49jAOghFQ/RrtwRYSi3RI/AAAAAAAAEaM/GsvxleJfdBc/s1600/\n",
      "Image has resolution 1200 x 1600. Shrinked to 480 x 640\n",
      "138. Successfully downloaded https://lh5.googleusercontent.com/-hVfiNZgRlkA/ULjvBcFDqQI/AAAAAAAAAxo/5AAL1Yz96No/s1600/\n",
      "Image has resolution 600 x 800. Shrinked to 480 x 640\n",
      "Failed to download http://mw2.google.com/mw-panoramio/photos/medium/6449091.jpg\n",
      "139. Successfully downloaded http://lh6.ggpht.com/-r0Hc1bZ8t5U/S-a7ToOlMSI/AAAAAAAAAKk/Tjkd0AJEW-U/s1600/\n",
      "Image has resolution 1063 x 1600. Shrinked to 451 x 679\n",
      "140. Successfully downloaded https://lh5.googleusercontent.com/-CC9ntMthbLk/TaMQZtj7JrI/AAAAAAAADh4/KjTQeYXaLoA/s1600/\n",
      "Image has resolution 1067 x 1600. Shrinked to 452 x 678\n",
      "141. Successfully downloaded https://lh5.googleusercontent.com/-vcjfodvMAvM/TE2hkMTz6SI/AAAAAAAABTg/kL0djll6IN0/s1600/\n",
      "Image has resolution 1200 x 1600. Shrinked to 480 x 640\n",
      "Failed to get URL None\n",
      "Failed to download http://mw2.google.com/mw-panoramio/photos/medium/19453977.jpg\n",
      "142. Successfully downloaded https://lh4.googleusercontent.com/-D_OMdLcUDr4/SezLJaKaRnI/AAAAAAAABD4/RtmjMoZO-l4/s1600/\n",
      "Image has resolution 1200 x 1600. Shrinked to 480 x 640\n",
      "143. Successfully downloaded http://lh3.ggpht.com/-YUyK2suzRtY/T3IhiTEjfDI/AAAAAAAAH8w/nLHAlPgKqDo/s1600/\n",
      "Image has resolution 1200 x 1600. Shrinked to 480 x 640\n",
      "144. Successfully downloaded https://lh3.googleusercontent.com/-wosGannPZ4A/Sp8MVd9eelI/AAAAAAAAC6Y/QU4tP2VRwCo/s1600/\n"
     ]
    },
    {
     "name": "stdout",
     "output_type": "stream",
     "text": [
      "Image has resolution 1200 x 1600. Shrinked to 480 x 640\n",
      "145. Successfully downloaded https://lh6.googleusercontent.com/--HrJMl1xEqI/S9XzK93B9MI/AAAAAAAACFY/0LAiSyKceRA/s1600/\n",
      "Image has resolution 1200 x 1600. Shrinked to 480 x 640\n",
      "146. Successfully downloaded https://lh3.googleusercontent.com/-2FHHIGxIcY4/S54Hu1a1h9I/AAAAAAAAFmE/sy6TWZEfHIc/s1600/\n",
      "Image has resolution 857 x 1280. Shrinked to 453 x 677\n",
      "147. Successfully downloaded https://lh6.googleusercontent.com/-4dNUmJkoVzE/SWl6IH_MdRI/AAAAAAAACLU/9Cwuh_xpbtw/s1600/\n",
      "Image has resolution 1200 x 1600. Shrinked to 480 x 640\n",
      "148. Successfully downloaded https://lh3.googleusercontent.com/-w8QSqxelDlY/S_H68fikIZI/AAAAAAAAAPc/XLLVKQIQ9T8/s1600/\n",
      "Image has resolution 1200 x 1600. Shrinked to 480 x 640\n",
      "149. Successfully downloaded http://lh5.ggpht.com/-p85O_qCwLKM/So1hNwgoaRI/AAAAAAAAEWU/gNGCpsMI7bY/s0/\n",
      "Image has resolution 1600 x 1200. Shrinked to 640 x 480\n",
      "150. Successfully downloaded https://lh6.googleusercontent.com/-4QBUk_meL4w/TJ-LldRBowI/AAAAAAAAAjQ/H-rBtk-dJ-U/s1600/\n",
      "Image has resolution 1200 x 1600. Shrinked to 480 x 640\n",
      "151. Successfully downloaded http://lh6.ggpht.com/-zJy-B7_PBXc/Rm1HoZLPHBI/AAAAAAAAAoY/bgc9yyMuGcQ/s1600/\n",
      "Image has resolution 1600 x 1200. Shrinked to 640 x 480\n",
      "152. Successfully downloaded http://lh4.ggpht.com/-rA-mhA2wZyg/S8DxrsEFwdI/AAAAAAAAAJ8/yQqGVwazl4Q/s1600/\n",
      "Image has resolution 1200 x 1600. Shrinked to 480 x 640\n",
      "153. Successfully downloaded https://lh6.googleusercontent.com/-xCiNqkayJTk/RoAx9HhZ77I/AAAAAAAAA7g/iDp1FVLHelo/s1600/\n",
      "Image has resolution 1079 x 1600. Shrinked to 455 x 674\n",
      "154. Successfully downloaded https://lh5.googleusercontent.com/-37gbsnIDGLk/UIbm1SHBpYI/AAAAAAAAA4I/orDuWEC1qzs/s1600/\n",
      "Image has resolution 1200 x 1600. Shrinked to 480 x 640\n",
      "155. Successfully downloaded https://lh6.googleusercontent.com/-sCGLcMXMP9E/RjeXSPC6ldI/AAAAAAAAB3o/TEC4DxQ7EzU/s1600/\n",
      "Image has resolution 1600 x 1200. Shrinked to 640 x 480\n",
      "156. Successfully downloaded https://lh5.googleusercontent.com/--WZtgQSP53k/SLrVBMYWWgI/AAAAAAAABW0/tdyraJ07Xg0/s1600/\n",
      "Image has resolution 1200 x 1600. Shrinked to 480 x 640\n",
      "157. Successfully downloaded https://lh4.googleusercontent.com/-btoMkkMV7rU/SKEO_dzVqtI/AAAAAAAABIE/xAzrNTRUFyk/s1600/\n",
      "Image has resolution 1200 x 1600. Shrinked to 480 x 640\n",
      "158. Successfully downloaded https://lh6.googleusercontent.com/-oC-phR2QGEU/TfFYPN9oUGI/AAAAAAAAOjs/EwsQpzLYXVU/s1600/\n",
      "159. Successfully downloaded https://lh6.googleusercontent.com/-0S-j7--Ct6w/S3S02Nd55PI/AAAAAAAAB7o/IXvGmMNOKNE/s1600/\n",
      "Image has resolution 686 x 1024. Shrinked to 453 x 677\n",
      "160. Successfully downloaded http://lh3.ggpht.com/-2WhnIbgs4Cs/S2WsSNq1SCI/AAAAAAAAAr4/yF6cft16YJk/s1600/\n",
      "Image has resolution 1200 x 1600. Shrinked to 480 x 640\n",
      "161. Successfully downloaded http://lh4.ggpht.com/-1j5c8FTInd0/TyeXxNYQBCI/AAAAAAAAgCc/sOHmlUsU390/s1600/\n",
      "162. Successfully downloaded https://lh6.googleusercontent.com/-wff5NFsrL8I/SkU_4GwEb_I/AAAAAAAAAUY/N63Vh9sgtak/s1600/\n",
      "Image has resolution 768 x 512. Shrinked to 678 x 452\n",
      "163. Successfully downloaded http://lh5.ggpht.com/-waZ_ot9qc54/Su-eUk8HfJI/AAAAAAAAGW8/Qg1ltb3bhoE/s1600/\n",
      "Image has resolution 1200 x 1600. Shrinked to 480 x 640\n",
      "164. Successfully downloaded https://lh4.googleusercontent.com/-LeMqy3JRMEU/TX0H2qmQx7I/AAAAAAAAAcU/WHMdNFkah0w/s1600/\n",
      "Image has resolution 600 x 800. Shrinked to 480 x 640\n",
      "165. Successfully downloaded https://lh3.googleusercontent.com/-ozwp8Jn7ZV0/TFRW49tf9KI/AAAAAAAAAPQ/xfH18rDzCCw/s1600/\n",
      "Image has resolution 1200 x 1600. Shrinked to 480 x 640\n",
      "Failed to download http://mw2.google.com/mw-panoramio/photos/medium/53015679.jpg\n",
      "166. Successfully downloaded http://lh3.ggpht.com/-VJuzIL-8xFg/SDPUfTU-mNI/AAAAAAAAA3s/dwR3cKGm9mc/s1600/\n",
      "Image has resolution 1200 x 1600. Shrinked to 480 x 640\n",
      "167. Successfully downloaded https://lh5.googleusercontent.com/-WK3awYbxxi4/UTCvrTZDfwI/AAAAAAAAQbE/oOUA6zkDiUA/s1600/\n",
      "Image has resolution 1200 x 1600. Shrinked to 480 x 640\n",
      "168. Successfully downloaded https://lh5.googleusercontent.com/-6saP6fk4Qdc/SZvpkD7JHkI/AAAAAAAAe9k/KB7eyPuirso/s1600/\n",
      "Image has resolution 1600 x 1067. Shrinked to 678 x 452\n",
      "169. Successfully downloaded http://lh3.ggpht.com/-W5s1vCHOwaM/SNsncyrIHWI/AAAAAAAABFo/iCTRPk-1noI/s1600/\n",
      "Image has resolution 1600 x 1071. Shrinked to 677 x 453\n",
      "Failed to download http://mw2.google.com/mw-panoramio/photos/medium/27032864.jpg\n",
      "Failed to download http://static.panoramio.com/photos/original/31265087.jpg\n",
      "170. Successfully downloaded http://lh5.ggpht.com/-ym2OlxgQKh4/Sj_qbIxdN3I/AAAAAAAAAMI/p6UXLdBAI9o/s1600/\n",
      "Image has resolution 1200 x 1600. Shrinked to 480 x 640\n",
      "Failed to download http://mw2.google.com/mw-panoramio/photos/medium/84524397.jpg\n",
      "171. Successfully downloaded https://lh6.googleusercontent.com/-vlczFTLxYGc/Uf8EDgScDPI/AAAAAAAABHo/DGLNizWAH2g/s0-d/\n",
      "Image has resolution 1840 x 3264. Shrinked to 416 x 738\n",
      "172. Successfully downloaded https://lh4.googleusercontent.com/-HdOyETHQYx8/ScqroySePpI/AAAAAAAADW8/KfefVCIwpU8/s1600/\n",
      "Image has resolution 1200 x 1600. Shrinked to 480 x 640\n",
      "Failed to download https://lh4.googleusercontent.com/-M4ccwOwwE98/UnS69dYyImI/AAAAAAAAABQ/o8sqpIMNoUY/s1600/\n",
      "Failed to download http://mw2.google.com/mw-panoramio/photos/medium/99712831.jpg\n",
      "173. Successfully downloaded https://lh6.googleusercontent.com/-IRnMkyux9v0/TtLZol4hClI/AAAAAAAAINA/BlD_LfKNQpA/s1600/\n",
      "Image has resolution 632 x 950. Shrinked to 452 x 679\n",
      "174. Successfully downloaded https://lh4.googleusercontent.com/-Y5qfYp7Az0U/UNOAUFK01hI/AAAAAAAAMhk/nqpNLv783x8/s1600/\n",
      "Image has resolution 1067 x 1600. Shrinked to 452 x 678\n",
      "175. Successfully downloaded https://lh5.googleusercontent.com/-sk58VyHctFo/TEtfNTXU_2I/AAAAAAAAC-k/hmsGJvKesmI/s1600/\n",
      "Image has resolution 600 x 800. Shrinked to 480 x 640\n",
      "176. Successfully downloaded http://lh5.ggpht.com/-rBI5aADQmXo/RuXvfyRE9PI/AAAAAAAAAfs/rjf7ldTt_Ww/s1600/\n",
      "Image has resolution 600 x 800. Shrinked to 480 x 640\n",
      "177. Successfully downloaded https://lh3.googleusercontent.com/-XATL6s4eXco/Shk-tiy_oZI/AAAAAAAAI08/HVfcn8HUzOI/s1600/\n",
      "Image has resolution 1067 x 1600. Shrinked to 452 x 678\n",
      "178. Successfully downloaded https://lh6.googleusercontent.com/-Z0u0xr-r1ew/UlhuCAL1ZbI/AAAAAAAADv0/VvtUY9pS6Y0/s1600/\n",
      "Image has resolution 1067 x 1600. Shrinked to 452 x 678\n",
      "179. Successfully downloaded http://lh3.ggpht.com/-DfXoBbaeo9s/SRk8lU8w5OI/AAAAAAAABuw/PvNjVMJBgvM/s1600/\n",
      "Image has resolution 1600 x 1200. Shrinked to 640 x 480\n",
      "180. Successfully downloaded https://lh4.googleusercontent.com/-DXlNFWVauw8/SvqAIPONDyI/AAAAAAAABaU/M_F7wuWuL3Q/s1600/\n",
      "Image has resolution 1071 x 1600. Shrinked to 453 x 677\n",
      "181. Successfully downloaded https://lh6.googleusercontent.com/-Ve4vg8dMWGo/UEyh2tvviiI/AAAAAAAAZac/s4GmmNLJuGc/s1600/\n",
      "Image has resolution 1203 x 1600. Shrinked to 480 x 639\n",
      "182. Successfully downloaded https://lh4.googleusercontent.com/-WzxX1lFuqC4/ThcAn-GxtII/AAAAAAAAAFU/vpKB8oWAlM0/s1600/\n",
      "Image has resolution 768 x 1024. Shrinked to 480 x 640\n",
      "183. Successfully downloaded https://lh4.googleusercontent.com/-m2MDZ_H9oyY/S3Bnu8fcMCI/AAAAAAAABo8/gB80c4VQrX8/s1600/\n",
      "Image has resolution 1200 x 1600. Shrinked to 480 x 640\n",
      "Failed to download http://mw2.google.com/mw-panoramio/photos/medium/3148850.jpg\n",
      "184. Successfully downloaded http://lh4.ggpht.com/-1NUXj85zxIk/SNlq-1xnkwI/AAAAAAAABI0/7JpZUxfyHdU/s1600/\n",
      "Image has resolution 1074 x 1600. Shrinked to 454 x 676\n",
      "185. Successfully downloaded http://lh6.ggpht.com/-d2t4jVUPs0w/RV8cxpG0ABI/AAAAAAAAAU0/6uU-ByQQO88/s1600/\n",
      "Image has resolution 1200 x 1600. Shrinked to 480 x 640\n",
      "186. Successfully downloaded https://lh3.googleusercontent.com/-jsgWbdLgxTk/TUXH9SYYmII/AAAAAAABBRk/d9xIB4CacTY/s1600/\n",
      "Image has resolution 1200 x 1600. Shrinked to 480 x 640\n",
      "187. Successfully downloaded https://lh6.googleusercontent.com/-IDhV_C_f0_I/TJb6-5GcLgI/AAAAAAAACM0/0eV3F4ZgnsM/s1600/\n",
      "Image has resolution 1200 x 1600. Shrinked to 480 x 640\n",
      "188. Successfully downloaded http://lh4.ggpht.com/-0Wz9R0hAs9M/Tr-htuDSQrI/AAAAAAAAACY/uqoip4LdS_s/s1600/\n",
      "Image has resolution 1200 x 1600. Shrinked to 480 x 640\n",
      "Failed to download http://mw2.google.com/mw-panoramio/photos/medium/75753403.jpg\n",
      "189. Successfully downloaded http://lh4.ggpht.com/-EctCSsjWw_w/T7bLkaUIqhI/AAAAAAAAHNA/XHTP2v5uOSk/s1600/\n",
      "Image has resolution 768 x 1024. Shrinked to 480 x 640\n"
     ]
    },
    {
     "name": "stdout",
     "output_type": "stream",
     "text": [
      "190. Successfully downloaded http://lh3.ggpht.com/-w1iJvwZv8zY/SJRqjYbZOII/AAAAAAAABO4/ckTepcfsElM/s1600/\n",
      "Image has resolution 1200 x 1600. Shrinked to 480 x 640\n",
      "191. Successfully downloaded https://lh5.googleusercontent.com/-DAK9NwQo4MM/SNZNoq8IcOI/AAAAAAAABOM/bA7LBDDpok8/rj/\n",
      "Failed to download http://mw2.google.com/mw-panoramio/photos/medium/61616291.jpg\n",
      "192. Successfully downloaded https://lh4.googleusercontent.com/-NMB-y10EUpo/Tq12SPbO3dI/AAAAAAAAI_8/337Bci9tP5w/s1600/\n",
      "Image has resolution 1600 x 1064. Shrinked to 679 x 451\n",
      "Failed to download http://mw2.google.com/mw-panoramio/photos/medium/13765223.jpg\n",
      "193. Successfully downloaded http://lh5.ggpht.com/-5AeucSPBo50/Svxq6V1j3yI/AAAAAAAADtI/IbHVNX55-s4/s1600/\n",
      "Image has resolution 1201 x 1600. Shrinked to 480 x 639\n",
      "Failed to get URL None\n",
      "194. Successfully downloaded http://lh6.ggpht.com/-rXlcrlUl718/RnZRJXZmTAI/AAAAAAAAAGs/80caH3javIQ/s1600/\n",
      "Image has resolution 1200 x 1600. Shrinked to 480 x 640\n",
      "195. Successfully downloaded http://lh4.ggpht.com/-3HrIZHshrPM/SKt4wIhElRI/AAAAAAAADJw/anQfDqhCEaU/rj/\n",
      "196. Successfully downloaded https://lh3.googleusercontent.com/-ik_2lKNAQpY/SjsEnEwLceI/AAAAAAAACbY/GfiGRqD5kqk/s1600/\n",
      "Image has resolution 1063 x 1600. Shrinked to 451 x 679\n",
      "197. Successfully downloaded https://lh3.googleusercontent.com/-HvdEQARunDI/UfrI-fMn5BI/AAAAAAAAC7c/WbDlWcC3IL4/s1600/\n",
      "Image has resolution 1600 x 1200. Shrinked to 640 x 480\n",
      "Failed to download https://lh4.googleusercontent.com/-TkUC7Xww_k4/SdJv7ZRotqI/AAAAAAAAAUc/Epa0aSXNQc4/s1600/\n",
      "Failed to download http://static.panoramio.com/photos/original/12807263.jpg\n",
      "198. Successfully downloaded https://lh6.googleusercontent.com/-rHG7DulPIeE/TdOweZuFTJI/AAAAAAAAARA/e-UT--zf7a0/s1600/\n",
      "Image has resolution 1071 x 1600. Shrinked to 453 x 677\n",
      "Failed to get URL None\n",
      "199. Successfully downloaded http://lh3.ggpht.com/-jFL-yyQu9oo/TKxFXFmK3oI/AAAAAAAAAGg/q0mqOtGuj4k/s1600/\n",
      "Image has resolution 540 x 720. Shrinked to 480 x 640\n",
      "200. Successfully downloaded https://lh5.googleusercontent.com/-T-k0PSzIq64/TzQPaRSn8wI/AAAAAAAAArI/jSZRLKDAKi8/s1600/\n",
      "Image has resolution 531 x 800. Shrinked to 451 x 680\n"
     ]
    }
   ],
   "source": [
    "CSV_PATH = \"google_train.csv\"\n",
    "SAVE_PATH = \"google_landmarks\"\n",
    "SAVED_URLS_FILE = \"google_landmarks.txt\"\n",
    "\n",
    "max_resolution = (640, 480)\n",
    "imgs_to_download = 200\n",
    "\n",
    "with open(CSV_PATH, \"r\") as fh:\n",
    "    urls = [x.split(\",\")[1].strip(\"\\'\\\"\") for x in fh.readlines()[1:]]\n",
    "    \n",
    "# ================\n",
    "# CAREFUL! THIS CODE ERASES ALL THE FILES IN DIRECTORY!\n",
    "\n",
    "for ximg in glob.glob(os.path.join(SAVE_PATH, \"*\")):\n",
    "    os.remove(ximg)\n",
    "    \n",
    "# ================\n",
    "\n",
    "np.random.seed(SEED)\n",
    "    \n",
    "with open(SAVED_URLS_FILE, \"w\") as fh:\n",
    "    ix = 0\n",
    "    idxs = iter(np.random.permutation(len(urls)))\n",
    "    \n",
    "    while ix < imgs_to_download:\n",
    "        idx = next(idxs)\n",
    "        \n",
    "        try:\n",
    "            req = requests.get(urls[idx], stream=True)\n",
    "            \n",
    "            if req.status_code == 200:\n",
    "                print(f\"{ix + 1}. Successfully downloaded {urls[idx]}\")\n",
    "\n",
    "                if urls[idx].endswith(\"jpg\"):\n",
    "                    filepath = os.path.join(SAVE_PATH, f\"img{idx}.jpg\")\n",
    "                else:\n",
    "                    filepath = os.path.join(SAVE_PATH, f\"img{idx}.png\")\n",
    "\n",
    "                with open(filepath, \"wb\") as fimg:\n",
    "                    req.raw.decode_content = True\n",
    "                    shutil.copyfileobj(req.raw, fimg)\n",
    "\n",
    "                # ================\n",
    "\n",
    "                img = cv2.imread(filepath)\n",
    "\n",
    "                if np.prod(img.shape[:2]) > np.prod(max_resolution):\n",
    "                    cft = np.sqrt(np.prod(max_resolution)/np.prod(img.shape[:2]))\n",
    "                    new_shape = (int(img.shape[0]*cft), int(img.shape[1]*cft))\n",
    "\n",
    "                    print(f\"Image has resolution {img.shape[0]} x {img.shape[1]}. Shrinked to {new_shape[0]} x {new_shape[1]}\")\n",
    "\n",
    "                    new_img = cv2.resize(img, (0, 0), fx=cft, fy=cft)\n",
    "                    cv2.imwrite(filepath, new_img)\n",
    "\n",
    "                fh.write(\", \".join((filepath, urls[idx])) + \"\\n\")\n",
    "                ix += 1\n",
    "            else:\n",
    "                print(f\"Failed to download {urls[idx]}\")\n",
    "            \n",
    "        except:\n",
    "            print(f\"Failed to get URL {urls[idx]}\")"
   ]
  },
  {
   "cell_type": "markdown",
   "metadata": {},
   "source": [
    "## Experimenting"
   ]
  },
  {
   "cell_type": "code",
   "execution_count": 19,
   "metadata": {},
   "outputs": [],
   "source": [
    "configs = {\n",
    "    \"q\": [0.75],\n",
    "    \"reg_coef\": np.logspace(-1.0, 1.0, 5),\n",
    "    \"rot\": [5.0, 10.0, 20.0],\n",
    "    \"hard_rank_reduction\": [True, False],\n",
    "    \"rank_mult\": [0.8]\n",
    "}"
   ]
  },
  {
   "cell_type": "code",
   "execution_count": 4,
   "metadata": {},
   "outputs": [],
   "source": [
    "def rprod(xs):\n",
    "    return reduce(mul, xs)"
   ]
  },
  {
   "cell_type": "code",
   "execution_count": 41,
   "metadata": {},
   "outputs": [
    {
     "data": {
      "application/vnd.jupyter.widget-view+json": {
       "model_id": "06d62356f1bc42f4b81e75c4ece1ba00",
       "version_major": 2,
       "version_minor": 0
      },
      "text/plain": [
       "HBox(children=(FloatProgress(value=0.0, max=201.0), HTML(value='')))"
      ]
     },
     "metadata": {},
     "output_type": "display_data"
    },
    {
     "data": {
      "application/vnd.jupyter.widget-view+json": {
       "model_id": "",
       "version_major": 2,
       "version_minor": 0
      },
      "text/plain": [
       "HBox(children=(FloatProgress(value=0.0, max=30.0), HTML(value='')))"
      ]
     },
     "metadata": {},
     "output_type": "display_data"
    },
    {
     "data": {
      "application/vnd.jupyter.widget-view+json": {
       "model_id": "",
       "version_major": 2,
       "version_minor": 0
      },
      "text/plain": [
       "HBox(children=(FloatProgress(value=0.0, max=30.0), HTML(value='')))"
      ]
     },
     "metadata": {},
     "output_type": "display_data"
    },
    {
     "data": {
      "application/vnd.jupyter.widget-view+json": {
       "model_id": "",
       "version_major": 2,
       "version_minor": 0
      },
      "text/plain": [
       "HBox(children=(FloatProgress(value=0.0, max=30.0), HTML(value='')))"
      ]
     },
     "metadata": {},
     "output_type": "display_data"
    },
    {
     "data": {
      "application/vnd.jupyter.widget-view+json": {
       "model_id": "",
       "version_major": 2,
       "version_minor": 0
      },
      "text/plain": [
       "HBox(children=(FloatProgress(value=0.0, max=30.0), HTML(value='')))"
      ]
     },
     "metadata": {},
     "output_type": "display_data"
    },
    {
     "data": {
      "application/vnd.jupyter.widget-view+json": {
       "model_id": "",
       "version_major": 2,
       "version_minor": 0
      },
      "text/plain": [
       "HBox(children=(FloatProgress(value=0.0, max=30.0), HTML(value='')))"
      ]
     },
     "metadata": {},
     "output_type": "display_data"
    },
    {
     "data": {
      "application/vnd.jupyter.widget-view+json": {
       "model_id": "",
       "version_major": 2,
       "version_minor": 0
      },
      "text/plain": [
       "HBox(children=(FloatProgress(value=0.0, max=30.0), HTML(value='')))"
      ]
     },
     "metadata": {},
     "output_type": "display_data"
    },
    {
     "data": {
      "application/vnd.jupyter.widget-view+json": {
       "model_id": "",
       "version_major": 2,
       "version_minor": 0
      },
      "text/plain": [
       "HBox(children=(FloatProgress(value=0.0, max=30.0), HTML(value='')))"
      ]
     },
     "metadata": {},
     "output_type": "display_data"
    },
    {
     "data": {
      "application/vnd.jupyter.widget-view+json": {
       "model_id": "",
       "version_major": 2,
       "version_minor": 0
      },
      "text/plain": [
       "HBox(children=(FloatProgress(value=0.0, max=30.0), HTML(value='')))"
      ]
     },
     "metadata": {},
     "output_type": "display_data"
    },
    {
     "data": {
      "application/vnd.jupyter.widget-view+json": {
       "model_id": "",
       "version_major": 2,
       "version_minor": 0
      },
      "text/plain": [
       "HBox(children=(FloatProgress(value=0.0, max=30.0), HTML(value='')))"
      ]
     },
     "metadata": {},
     "output_type": "display_data"
    },
    {
     "data": {
      "application/vnd.jupyter.widget-view+json": {
       "model_id": "",
       "version_major": 2,
       "version_minor": 0
      },
      "text/plain": [
       "HBox(children=(FloatProgress(value=0.0, max=30.0), HTML(value='')))"
      ]
     },
     "metadata": {},
     "output_type": "display_data"
    },
    {
     "data": {
      "application/vnd.jupyter.widget-view+json": {
       "model_id": "",
       "version_major": 2,
       "version_minor": 0
      },
      "text/plain": [
       "HBox(children=(FloatProgress(value=0.0, max=30.0), HTML(value='')))"
      ]
     },
     "metadata": {},
     "output_type": "display_data"
    },
    {
     "data": {
      "application/vnd.jupyter.widget-view+json": {
       "model_id": "",
       "version_major": 2,
       "version_minor": 0
      },
      "text/plain": [
       "HBox(children=(FloatProgress(value=0.0, max=30.0), HTML(value='')))"
      ]
     },
     "metadata": {},
     "output_type": "display_data"
    },
    {
     "data": {
      "application/vnd.jupyter.widget-view+json": {
       "model_id": "",
       "version_major": 2,
       "version_minor": 0
      },
      "text/plain": [
       "HBox(children=(FloatProgress(value=0.0, max=30.0), HTML(value='')))"
      ]
     },
     "metadata": {},
     "output_type": "display_data"
    },
    {
     "data": {
      "application/vnd.jupyter.widget-view+json": {
       "model_id": "",
       "version_major": 2,
       "version_minor": 0
      },
      "text/plain": [
       "HBox(children=(FloatProgress(value=0.0, max=30.0), HTML(value='')))"
      ]
     },
     "metadata": {},
     "output_type": "display_data"
    },
    {
     "data": {
      "application/vnd.jupyter.widget-view+json": {
       "model_id": "",
       "version_major": 2,
       "version_minor": 0
      },
      "text/plain": [
       "HBox(children=(FloatProgress(value=0.0, max=30.0), HTML(value='')))"
      ]
     },
     "metadata": {},
     "output_type": "display_data"
    },
    {
     "data": {
      "application/vnd.jupyter.widget-view+json": {
       "model_id": "",
       "version_major": 2,
       "version_minor": 0
      },
      "text/plain": [
       "HBox(children=(FloatProgress(value=0.0, max=30.0), HTML(value='')))"
      ]
     },
     "metadata": {},
     "output_type": "display_data"
    },
    {
     "data": {
      "application/vnd.jupyter.widget-view+json": {
       "model_id": "",
       "version_major": 2,
       "version_minor": 0
      },
      "text/plain": [
       "HBox(children=(FloatProgress(value=0.0, max=30.0), HTML(value='')))"
      ]
     },
     "metadata": {},
     "output_type": "display_data"
    },
    {
     "data": {
      "application/vnd.jupyter.widget-view+json": {
       "model_id": "",
       "version_major": 2,
       "version_minor": 0
      },
      "text/plain": [
       "HBox(children=(FloatProgress(value=0.0, max=30.0), HTML(value='')))"
      ]
     },
     "metadata": {},
     "output_type": "display_data"
    },
    {
     "data": {
      "application/vnd.jupyter.widget-view+json": {
       "model_id": "",
       "version_major": 2,
       "version_minor": 0
      },
      "text/plain": [
       "HBox(children=(FloatProgress(value=0.0, max=30.0), HTML(value='')))"
      ]
     },
     "metadata": {},
     "output_type": "display_data"
    },
    {
     "data": {
      "application/vnd.jupyter.widget-view+json": {
       "model_id": "",
       "version_major": 2,
       "version_minor": 0
      },
      "text/plain": [
       "HBox(children=(FloatProgress(value=0.0, max=30.0), HTML(value='')))"
      ]
     },
     "metadata": {},
     "output_type": "display_data"
    },
    {
     "data": {
      "application/vnd.jupyter.widget-view+json": {
       "model_id": "",
       "version_major": 2,
       "version_minor": 0
      },
      "text/plain": [
       "HBox(children=(FloatProgress(value=0.0, max=30.0), HTML(value='')))"
      ]
     },
     "metadata": {},
     "output_type": "display_data"
    },
    {
     "data": {
      "application/vnd.jupyter.widget-view+json": {
       "model_id": "",
       "version_major": 2,
       "version_minor": 0
      },
      "text/plain": [
       "HBox(children=(FloatProgress(value=0.0, max=30.0), HTML(value='')))"
      ]
     },
     "metadata": {},
     "output_type": "display_data"
    },
    {
     "data": {
      "application/vnd.jupyter.widget-view+json": {
       "model_id": "",
       "version_major": 2,
       "version_minor": 0
      },
      "text/plain": [
       "HBox(children=(FloatProgress(value=0.0, max=30.0), HTML(value='')))"
      ]
     },
     "metadata": {},
     "output_type": "display_data"
    },
    {
     "data": {
      "application/vnd.jupyter.widget-view+json": {
       "model_id": "",
       "version_major": 2,
       "version_minor": 0
      },
      "text/plain": [
       "HBox(children=(FloatProgress(value=0.0, max=30.0), HTML(value='')))"
      ]
     },
     "metadata": {},
     "output_type": "display_data"
    },
    {
     "data": {
      "application/vnd.jupyter.widget-view+json": {
       "model_id": "",
       "version_major": 2,
       "version_minor": 0
      },
      "text/plain": [
       "HBox(children=(FloatProgress(value=0.0, max=30.0), HTML(value='')))"
      ]
     },
     "metadata": {},
     "output_type": "display_data"
    },
    {
     "data": {
      "application/vnd.jupyter.widget-view+json": {
       "model_id": "",
       "version_major": 2,
       "version_minor": 0
      },
      "text/plain": [
       "HBox(children=(FloatProgress(value=0.0, max=30.0), HTML(value='')))"
      ]
     },
     "metadata": {},
     "output_type": "display_data"
    },
    {
     "ename": "error",
     "evalue": "OpenCV(4.1.2) /io/opencv/modules/imgproc/src/color.cpp:182: error: (-215:Assertion failed) !_src.empty() in function 'cvtColor'\n",
     "output_type": "error",
     "traceback": [
      "\u001b[0;31m---------------------------------------------------------------------------\u001b[0m",
      "\u001b[0;31merror\u001b[0m                                     Traceback (most recent call last)",
      "\u001b[0;32m<ipython-input-41-a5c9a2b471aa>\u001b[0m in \u001b[0;36m<module>\u001b[0;34m\u001b[0m\n\u001b[1;32m      8\u001b[0m \u001b[0;32mfor\u001b[0m \u001b[0;34m(\u001b[0m\u001b[0mix\u001b[0m\u001b[0;34m,\u001b[0m \u001b[0mximg\u001b[0m\u001b[0;34m)\u001b[0m \u001b[0;32min\u001b[0m \u001b[0mtqdm\u001b[0m\u001b[0;34m(\u001b[0m\u001b[0menumerate\u001b[0m\u001b[0;34m(\u001b[0m\u001b[0mpaths\u001b[0m\u001b[0;34m)\u001b[0m\u001b[0;34m,\u001b[0m \u001b[0mtotal\u001b[0m\u001b[0;34m=\u001b[0m\u001b[0mlen\u001b[0m\u001b[0;34m(\u001b[0m\u001b[0mpaths\u001b[0m\u001b[0;34m)\u001b[0m\u001b[0;34m)\u001b[0m\u001b[0;34m:\u001b[0m\u001b[0;34m\u001b[0m\u001b[0;34m\u001b[0m\u001b[0m\n\u001b[1;32m      9\u001b[0m     \u001b[0;32mif\u001b[0m \u001b[0mximg\u001b[0m \u001b[0;32mnot\u001b[0m \u001b[0;32min\u001b[0m \u001b[0mdf\u001b[0m\u001b[0;34m.\u001b[0m\u001b[0mimg\u001b[0m\u001b[0;34m.\u001b[0m\u001b[0mvalues\u001b[0m\u001b[0;34m:\u001b[0m\u001b[0;34m\u001b[0m\u001b[0;34m\u001b[0m\u001b[0m\n\u001b[0;32m---> 10\u001b[0;31m         \u001b[0mimg\u001b[0m \u001b[0;34m=\u001b[0m \u001b[0miri\u001b[0m\u001b[0;34m.\u001b[0m\u001b[0mimg2qm\u001b[0m\u001b[0;34m(\u001b[0m\u001b[0mximg\u001b[0m\u001b[0;34m)\u001b[0m\u001b[0;34m\u001b[0m\u001b[0;34m\u001b[0m\u001b[0m\n\u001b[0m\u001b[1;32m     11\u001b[0m         \u001b[0mtainted\u001b[0m \u001b[0;34m=\u001b[0m \u001b[0;34m(\u001b[0m\u001b[0;32mNone\u001b[0m\u001b[0;34m,\u001b[0m \u001b[0;32mNone\u001b[0m\u001b[0;34m)\u001b[0m\u001b[0;34m\u001b[0m\u001b[0;34m\u001b[0m\u001b[0m\n\u001b[1;32m     12\u001b[0m         \u001b[0mresults\u001b[0m \u001b[0;34m=\u001b[0m \u001b[0;34m[\u001b[0m\u001b[0;32mNone\u001b[0m \u001b[0;32mfor\u001b[0m \u001b[0m_\u001b[0m \u001b[0;32min\u001b[0m \u001b[0mrange\u001b[0m\u001b[0;34m(\u001b[0m\u001b[0mrprod\u001b[0m\u001b[0;34m(\u001b[0m\u001b[0mmap\u001b[0m\u001b[0;34m(\u001b[0m\u001b[0mlen\u001b[0m\u001b[0;34m,\u001b[0m \u001b[0mconfigs\u001b[0m\u001b[0;34m.\u001b[0m\u001b[0mvalues\u001b[0m\u001b[0;34m(\u001b[0m\u001b[0;34m)\u001b[0m\u001b[0;34m)\u001b[0m\u001b[0;34m)\u001b[0m\u001b[0;34m)\u001b[0m\u001b[0;34m]\u001b[0m\u001b[0;34m\u001b[0m\u001b[0;34m\u001b[0m\u001b[0m\n",
      "\u001b[0;32m~/devel/nla_sem_01_project/image_recovery/imglib.py\u001b[0m in \u001b[0;36mimg2qm\u001b[0;34m(filepath)\u001b[0m\n\u001b[1;32m     24\u001b[0m     \"\"\"\n\u001b[1;32m     25\u001b[0m \u001b[0;34m\u001b[0m\u001b[0m\n\u001b[0;32m---> 26\u001b[0;31m     \u001b[0mimg\u001b[0m \u001b[0;34m=\u001b[0m \u001b[0mcv2\u001b[0m\u001b[0;34m.\u001b[0m\u001b[0mcvtColor\u001b[0m\u001b[0;34m(\u001b[0m\u001b[0mcv2\u001b[0m\u001b[0;34m.\u001b[0m\u001b[0mimread\u001b[0m\u001b[0;34m(\u001b[0m\u001b[0mfilepath\u001b[0m\u001b[0;34m)\u001b[0m\u001b[0;34m,\u001b[0m \u001b[0mcv2\u001b[0m\u001b[0;34m.\u001b[0m\u001b[0mCOLOR_BGR2RGB\u001b[0m\u001b[0;34m)\u001b[0m\u001b[0;34m.\u001b[0m\u001b[0mastype\u001b[0m\u001b[0;34m(\u001b[0m\u001b[0mnp\u001b[0m\u001b[0;34m.\u001b[0m\u001b[0mfloat64\u001b[0m\u001b[0;34m)\u001b[0m\u001b[0;34m/\u001b[0m\u001b[0;36m255.0\u001b[0m\u001b[0;34m\u001b[0m\u001b[0;34m\u001b[0m\u001b[0m\n\u001b[0m\u001b[1;32m     27\u001b[0m \u001b[0;34m\u001b[0m\u001b[0m\n\u001b[1;32m     28\u001b[0m     return np.concatenate([\n",
      "\u001b[0;31merror\u001b[0m: OpenCV(4.1.2) /io/opencv/modules/imgproc/src/color.cpp:182: error: (-215:Assertion failed) !_src.empty() in function 'cvtColor'\n"
     ]
    }
   ],
   "source": [
    "RESULTS_FILE = \"seed42_n200.txt\"\n",
    "\n",
    "paths = glob.glob(os.path.join(SAVE_PATH, \"*.png\")) + glob.glob(os.path.join(SAVE_PATH, \"*.jpg\"))\n",
    "\n",
    "if os.path.isfile(RESULTS_FILE):\n",
    "    df = pd.read_table(RESULTS_FILE, sep=\",\")\n",
    "\n",
    "for (ix, ximg) in tqdm(enumerate(paths), total=len(paths)):\n",
    "    if ximg not in df.img.values:\n",
    "        img = iri.img2qm(ximg)\n",
    "        tainted = (None, None)\n",
    "        results = [None for _ in range(rprod(map(len, configs.values())))]\n",
    "\n",
    "        for (jx, xcfg) in tqdm(enumerate(product(*list(zip(cycle((k, )), v) for (k, v) in configs.items()))), \n",
    "                               total=rprod(map(len, configs.values())), leave=False):\n",
    "            cfg = dict(xcfg)\n",
    "            xq = cfg.pop(\"q\")\n",
    "\n",
    "            if xq != tainted[0]:\n",
    "                tainted = (xq, iri.add_random_missing_pixels(img, q=xq, mode=\"uniform\", random_state=SEED))\n",
    "\n",
    "            # ================\n",
    "\n",
    "            rimg, U, _ = irl.lrqmc(mtr=tainted[1][0], mask=tainted[1][1], init_rank=100,\n",
    "                                   max_iter=100, rel_tol=1e-3, random_state=SEED, progress=False, **cfg)\n",
    "            results[jx] = {\n",
    "                **cfg,\n",
    "                **{\n",
    "                    \"q\": xq,\n",
    "                    \"img\": ximg,\n",
    "                    \"rank\": U.shape[1],\n",
    "                    \"norm\": np.sqrt(np.power(rimg - img, 2).sum())\n",
    "                }\n",
    "            }\n",
    "\n",
    "        # ================\n",
    "\n",
    "        pd.DataFrame(results).to_csv(RESULTS_FILE, mode=\"a\", header=(ix == 0))"
   ]
  },
  {
   "cell_type": "code",
   "execution_count": null,
   "metadata": {},
   "outputs": [],
   "source": []
  }
 ],
 "metadata": {
  "kernelspec": {
   "display_name": "Python 3",
   "language": "python",
   "name": "python3"
  },
  "language_info": {
   "codemirror_mode": {
    "name": "ipython",
    "version": 3
   },
   "file_extension": ".py",
   "mimetype": "text/x-python",
   "name": "python",
   "nbconvert_exporter": "python",
   "pygments_lexer": "ipython3",
   "version": "3.6.9"
  }
 },
 "nbformat": 4,
 "nbformat_minor": 2
}
